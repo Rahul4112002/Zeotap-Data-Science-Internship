{
 "cells": [
  {
   "cell_type": "markdown",
   "id": "2528f714",
   "metadata": {},
   "source": [
    "# Importing Libraries"
   ]
  },
  {
   "cell_type": "code",
   "execution_count": 31,
   "id": "7e651fe8",
   "metadata": {},
   "outputs": [],
   "source": [
    "import pandas as pd\n",
    "from sklearn.preprocessing import StandardScaler\n",
    "from sklearn.metrics.pairwise import cosine_similarity"
   ]
  },
  {
   "cell_type": "markdown",
   "id": "b37ff9f0",
   "metadata": {},
   "source": [
    "# Load the datasets"
   ]
  },
  {
   "cell_type": "code",
   "execution_count": 32,
   "id": "f57551b6",
   "metadata": {},
   "outputs": [],
   "source": [
    "customers_df = pd.read_csv('Customers.csv', encoding='utf-8-sig')\n",
    "transactions_df = pd.read_csv('Transactions.csv', encoding='utf-8-sig')\n",
    "products_df = pd.read_csv('Products.csv', encoding='utf-8-sig')"
   ]
  },
  {
   "cell_type": "code",
   "execution_count": 44,
   "id": "42c069bd",
   "metadata": {},
   "outputs": [
    {
     "data": {
      "text/html": [
       "<div>\n",
       "<style scoped>\n",
       "    .dataframe tbody tr th:only-of-type {\n",
       "        vertical-align: middle;\n",
       "    }\n",
       "\n",
       "    .dataframe tbody tr th {\n",
       "        vertical-align: top;\n",
       "    }\n",
       "\n",
       "    .dataframe thead th {\n",
       "        text-align: right;\n",
       "    }\n",
       "</style>\n",
       "<table border=\"1\" class=\"dataframe\">\n",
       "  <thead>\n",
       "    <tr style=\"text-align: right;\">\n",
       "      <th></th>\n",
       "      <th>CustomerID</th>\n",
       "      <th>CustomerName</th>\n",
       "      <th>Region</th>\n",
       "      <th>SignupDate</th>\n",
       "    </tr>\n",
       "  </thead>\n",
       "  <tbody>\n",
       "    <tr>\n",
       "      <th>0</th>\n",
       "      <td>C0001</td>\n",
       "      <td>Lawrence Carroll</td>\n",
       "      <td>South America</td>\n",
       "      <td>2022-07-10</td>\n",
       "    </tr>\n",
       "    <tr>\n",
       "      <th>1</th>\n",
       "      <td>C0002</td>\n",
       "      <td>Elizabeth Lutz</td>\n",
       "      <td>Asia</td>\n",
       "      <td>2022-02-13</td>\n",
       "    </tr>\n",
       "    <tr>\n",
       "      <th>2</th>\n",
       "      <td>C0003</td>\n",
       "      <td>Michael Rivera</td>\n",
       "      <td>South America</td>\n",
       "      <td>2024-03-07</td>\n",
       "    </tr>\n",
       "    <tr>\n",
       "      <th>3</th>\n",
       "      <td>C0004</td>\n",
       "      <td>Kathleen Rodriguez</td>\n",
       "      <td>South America</td>\n",
       "      <td>2022-10-09</td>\n",
       "    </tr>\n",
       "    <tr>\n",
       "      <th>4</th>\n",
       "      <td>C0005</td>\n",
       "      <td>Laura Weber</td>\n",
       "      <td>Asia</td>\n",
       "      <td>2022-08-15</td>\n",
       "    </tr>\n",
       "  </tbody>\n",
       "</table>\n",
       "</div>"
      ],
      "text/plain": [
       "  CustomerID        CustomerName         Region  SignupDate\n",
       "0      C0001    Lawrence Carroll  South America  2022-07-10\n",
       "1      C0002      Elizabeth Lutz           Asia  2022-02-13\n",
       "2      C0003      Michael Rivera  South America  2024-03-07\n",
       "3      C0004  Kathleen Rodriguez  South America  2022-10-09\n",
       "4      C0005         Laura Weber           Asia  2022-08-15"
      ]
     },
     "execution_count": 44,
     "metadata": {},
     "output_type": "execute_result"
    }
   ],
   "source": [
    "# Display the first few rows of the dataframe to understand its structure\n",
    "customers_df.head()"
   ]
  },
  {
   "cell_type": "markdown",
   "id": "57bf114c",
   "metadata": {},
   "source": [
    "# Merge Transactions with Products"
   ]
  },
  {
   "cell_type": "code",
   "execution_count": 33,
   "id": "23feff85",
   "metadata": {},
   "outputs": [],
   "source": [
    "transactions_products = pd.merge(transactions_df, products_df, on='ProductID')"
   ]
  },
  {
   "cell_type": "markdown",
   "id": "8b08e962",
   "metadata": {},
   "source": [
    "# Merge Transactions with Customers"
   ]
  },
  {
   "cell_type": "code",
   "execution_count": 34,
   "id": "783726f0",
   "metadata": {},
   "outputs": [],
   "source": [
    "transactions_customers = pd.merge(transactions_products, customers_df, on='CustomerID')"
   ]
  },
  {
   "cell_type": "markdown",
   "id": "591c6252",
   "metadata": {},
   "source": [
    "# Feature Engineering: Create a pivot table with customers and their average spending per category"
   ]
  },
  {
   "cell_type": "code",
   "execution_count": 35,
   "id": "f81b108e",
   "metadata": {},
   "outputs": [],
   "source": [
    "customer_category_spending = transactions_customers.pivot_table(\n",
    "    index='CustomerID', \n",
    "    columns='Category', \n",
    "    values='TotalValue', \n",
    "    aggfunc='mean', \n",
    "    fill_value=0\n",
    ")"
   ]
  },
  {
   "cell_type": "markdown",
   "id": "6c6ef7d2",
   "metadata": {},
   "source": [
    "# Standardize the features"
   ]
  },
  {
   "cell_type": "code",
   "execution_count": 36,
   "id": "9ebcd51e",
   "metadata": {},
   "outputs": [],
   "source": [
    "scaler = StandardScaler()\n",
    "customer_category_spending_scaled = scaler.fit_transform(customer_category_spending)"
   ]
  },
  {
   "cell_type": "markdown",
   "id": "8e1c7f1f",
   "metadata": {},
   "source": [
    "# Calculate cosine similarity between customers"
   ]
  },
  {
   "cell_type": "code",
   "execution_count": 37,
   "id": "a55a2a1f",
   "metadata": {},
   "outputs": [],
   "source": [
    "similarity_matrix = cosine_similarity(customer_category_spending_scaled)"
   ]
  },
  {
   "cell_type": "code",
   "execution_count": 46,
   "id": "844201d5",
   "metadata": {},
   "outputs": [
    {
     "data": {
      "text/plain": [
       "array([[ 1.        , -0.00285627,  0.90866219, ..., -0.20421403,\n",
       "         0.56045775, -0.85178099],\n",
       "       [-0.00285627,  1.        , -0.20564071, ...,  0.7605466 ,\n",
       "         0.64846917, -0.48565634],\n",
       "       [ 0.90866219, -0.20564071,  1.        , ..., -0.35825782,\n",
       "         0.37542747, -0.67246518],\n",
       "       ...,\n",
       "       [-0.20421403,  0.7605466 , -0.35825782, ...,  1.        ,\n",
       "         0.06428837, -0.31431714],\n",
       "       [ 0.56045775,  0.64846917,  0.37542747, ...,  0.06428837,\n",
       "         1.        , -0.69710257],\n",
       "       [-0.85178099, -0.48565634, -0.67246518, ..., -0.31431714,\n",
       "        -0.69710257,  1.        ]])"
      ]
     },
     "execution_count": 46,
     "metadata": {},
     "output_type": "execute_result"
    }
   ],
   "source": [
    "similarity_matrix"
   ]
  },
  {
   "cell_type": "markdown",
   "id": "2919820e",
   "metadata": {},
   "source": [
    "# Convert similarity matrix to DataFrame"
   ]
  },
  {
   "cell_type": "code",
   "execution_count": 38,
   "id": "0ed34212",
   "metadata": {},
   "outputs": [],
   "source": [
    "similarity_df = pd.DataFrame(similarity_matrix, \n",
    "                             index=customer_category_spending.index, \n",
    "                             columns=customer_category_spending.index)"
   ]
  },
  {
   "cell_type": "markdown",
   "id": "53dad478",
   "metadata": {},
   "source": [
    "# Function to get top 3 similar customers"
   ]
  },
  {
   "cell_type": "code",
   "execution_count": 39,
   "id": "63e1dc93",
   "metadata": {},
   "outputs": [],
   "source": [
    "def get_top_3_similar(customers_df, similarity_df, customer_id):\n",
    "    similar_customers = similarity_df[customer_id].sort_values(ascending=False).iloc[1:4]\n",
    "    return list(similar_customers.index), list(similar_customers.values)"
   ]
  },
  {
   "cell_type": "markdown",
   "id": "1cf87c97",
   "metadata": {},
   "source": [
    "# Generate Lookalike recommendations for the first 20 customers"
   ]
  },
  {
   "cell_type": "code",
   "execution_count": 40,
   "id": "c4d8b78c",
   "metadata": {},
   "outputs": [],
   "source": [
    "lookalike_dict = {}\n",
    "for customer_id in customers_df['CustomerID'].iloc[:20]:\n",
    "    similar_ids, scores = get_top_3_similar(customers_df, similarity_df, customer_id)\n",
    "    lookalike_dict[customer_id] = list(zip(similar_ids, scores))"
   ]
  },
  {
   "cell_type": "markdown",
   "id": "c4b6e273",
   "metadata": {},
   "source": [
    "# Convert the lookalike dictionary to a DataFrame"
   ]
  },
  {
   "cell_type": "code",
   "execution_count": 41,
   "id": "3ffad0cf",
   "metadata": {},
   "outputs": [],
   "source": [
    "lookalike_df = pd.DataFrame.from_dict(lookalike_dict, orient='index', columns=['Lookalike1', 'Lookalike2', 'Lookalike3'])"
   ]
  },
  {
   "cell_type": "markdown",
   "id": "dd54bb52",
   "metadata": {},
   "source": [
    "# Save the lookalike recommendations to a CSV file"
   ]
  },
  {
   "cell_type": "code",
   "execution_count": 42,
   "id": "2a042f8c",
   "metadata": {},
   "outputs": [],
   "source": [
    "lookalike_df.to_csv('Rahul_Chauhan_Lookalike.csv'"
   ]
  },
  {
   "cell_type": "code",
   "execution_count": 43,
   "id": "f64406d4",
   "metadata": {},
   "outputs": [
    {
     "data": {
      "text/html": [
       "<div>\n",
       "<style scoped>\n",
       "    .dataframe tbody tr th:only-of-type {\n",
       "        vertical-align: middle;\n",
       "    }\n",
       "\n",
       "    .dataframe tbody tr th {\n",
       "        vertical-align: top;\n",
       "    }\n",
       "\n",
       "    .dataframe thead th {\n",
       "        text-align: right;\n",
       "    }\n",
       "</style>\n",
       "<table border=\"1\" class=\"dataframe\">\n",
       "  <thead>\n",
       "    <tr style=\"text-align: right;\">\n",
       "      <th></th>\n",
       "      <th>Lookalike1</th>\n",
       "      <th>Lookalike2</th>\n",
       "      <th>Lookalike3</th>\n",
       "    </tr>\n",
       "  </thead>\n",
       "  <tbody>\n",
       "    <tr>\n",
       "      <th>C0001</th>\n",
       "      <td>(C0184, 0.9472355498942732)</td>\n",
       "      <td>(C0047, 0.9290902929881713)</td>\n",
       "      <td>(C0152, 0.915772822583414)</td>\n",
       "    </tr>\n",
       "    <tr>\n",
       "      <th>C0002</th>\n",
       "      <td>(C0134, 0.9417241221886844)</td>\n",
       "      <td>(C0062, 0.8702122771421835)</td>\n",
       "      <td>(C0128, 0.8399356355278532)</td>\n",
       "    </tr>\n",
       "    <tr>\n",
       "      <th>C0003</th>\n",
       "      <td>(C0163, 0.996442720815831)</td>\n",
       "      <td>(C0152, 0.9738913786466057)</td>\n",
       "      <td>(C0012, 0.9738079924314287)</td>\n",
       "    </tr>\n",
       "    <tr>\n",
       "      <th>C0004</th>\n",
       "      <td>(C0090, 0.9870839964399987)</td>\n",
       "      <td>(C0064, 0.9479684406070296)</td>\n",
       "      <td>(C0127, 0.9134965740927001)</td>\n",
       "    </tr>\n",
       "    <tr>\n",
       "      <th>C0005</th>\n",
       "      <td>(C0197, 0.9771085009829121)</td>\n",
       "      <td>(C0007, 0.9534556278772148)</td>\n",
       "      <td>(C0199, 0.9158394606789362)</td>\n",
       "    </tr>\n",
       "  </tbody>\n",
       "</table>\n",
       "</div>"
      ],
      "text/plain": [
       "                        Lookalike1                   Lookalike2   \n",
       "C0001  (C0184, 0.9472355498942732)  (C0047, 0.9290902929881713)  \\\n",
       "C0002  (C0134, 0.9417241221886844)  (C0062, 0.8702122771421835)   \n",
       "C0003   (C0163, 0.996442720815831)  (C0152, 0.9738913786466057)   \n",
       "C0004  (C0090, 0.9870839964399987)  (C0064, 0.9479684406070296)   \n",
       "C0005  (C0197, 0.9771085009829121)  (C0007, 0.9534556278772148)   \n",
       "\n",
       "                        Lookalike3  \n",
       "C0001   (C0152, 0.915772822583414)  \n",
       "C0002  (C0128, 0.8399356355278532)  \n",
       "C0003  (C0012, 0.9738079924314287)  \n",
       "C0004  (C0127, 0.9134965740927001)  \n",
       "C0005  (C0199, 0.9158394606789362)  "
      ]
     },
     "execution_count": 43,
     "metadata": {},
     "output_type": "execute_result"
    }
   ],
   "source": [
    "lookalike_df.head()"
   ]
  },
  {
   "cell_type": "code",
   "execution_count": null,
   "id": "dbf14db8",
   "metadata": {},
   "outputs": [],
   "source": []
  }
 ],
 "metadata": {
  "kernelspec": {
   "display_name": "Python 3 (ipykernel)",
   "language": "python",
   "name": "python3"
  },
  "language_info": {
   "codemirror_mode": {
    "name": "ipython",
    "version": 3
   },
   "file_extension": ".py",
   "mimetype": "text/x-python",
   "name": "python",
   "nbconvert_exporter": "python",
   "pygments_lexer": "ipython3",
   "version": "3.10.5"
  }
 },
 "nbformat": 4,
 "nbformat_minor": 5
}
